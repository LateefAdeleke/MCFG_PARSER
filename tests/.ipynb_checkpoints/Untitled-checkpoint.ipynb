{
 "cells": [
  {
   "cell_type": "code",
   "execution_count": null,
   "id": "d41edf3f-af72-4ad0-b9b9-1923e29ae788",
   "metadata": {},
   "outputs": [],
   "source": [
    "import pytest\n",
    "from grammar import MCFGRuleElement\n",
    "\n",
    "def test_mcfg_rule_element_str():\n",
    "    element = MCFGRuleElement('NP', (0,), (1,))\n",
    "    assert str(element) == \"NP(0, 1)\", \"String representation should match\"\n",
    "\n",
    "def test_mcfg_rule_element_equality():\n",
    "    element1 = MCFGRuleElement('VP', (0, 1))\n",
    "    element2 = MCFGRuleElement('VP', (0, 1))\n",
    "    assert element1 == element2, \"Elements with same configuration should be equal\"\n",
    "\n",
    "test_mcfg_rule_element_str\n",
    "\n"
   ]
  },
  {
   "cell_type": "code",
   "execution_count": null,
   "id": "60805d8b-ff3e-4d12-bd51-a879b314dc72",
   "metadata": {},
   "outputs": [],
   "source": [
    "import pytest\n",
    "from grammar import MCFGRuleElement\n",
    "\n",
    "def test_mcfg_rule_element_str():\n",
    "    element = MCFGRuleElement('NP', (0,), (1,))\n",
    "    assert str(element) == \"NP(0, 1)\", \"String representation should match\"\n",
    "\n",
    "def test_mcfg_rule_element_equality():\n",
    "    element1 = MCFGRuleElement('VP', (0, 1))\n",
    "    element2 = MCFGRuleElement('VP', (0, 1))\n",
    "    assert element1 == element2, \"Elements with same configuration should be equal\"\n",
    "\n",
    "test_mcfg_rule_element_str\n",
    "\n"
   ]
  }
 ],
 "metadata": {
  "kernelspec": {
   "display_name": "Python 3 (ipykernel)",
   "language": "python",
   "name": "python3"
  },
  "language_info": {
   "codemirror_mode": {
    "name": "ipython",
    "version": 3
   },
   "file_extension": ".py",
   "mimetype": "text/x-python",
   "name": "python",
   "nbconvert_exporter": "python",
   "pygments_lexer": "ipython3",
   "version": "3.11.5"
  }
 },
 "nbformat": 4,
 "nbformat_minor": 5
}
